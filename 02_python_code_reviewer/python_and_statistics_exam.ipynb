{
 "cells": [
  {
   "cell_type": "markdown",
   "metadata": {},
   "source": [
    "# Test Task for Code Reviewer\n",
    "\n",
    "Time given: 1 day"
   ]
  },
  {
   "cell_type": "code",
   "execution_count": 1,
   "metadata": {},
   "outputs": [],
   "source": [
    "import pandas as pd\n",
    "import numpy as np\n",
    "import warnings\n",
    "\n",
    "pd.set_option('display.max_columns', None)\n",
    "warnings.filterwarnings(\"ignore\")"
   ]
  },
  {
   "cell_type": "markdown",
   "metadata": {},
   "source": [
    "# Task 1. Working with data\n",
    "\n",
    "To complete this task, use the data set in the attached file. Indicate the answer to each of the\n",
    "following steps and time to complete the entire task.\n",
    "\n"
   ]
  },
  {
   "cell_type": "code",
   "execution_count": 2,
   "metadata": {},
   "outputs": [
    {
     "name": "stdout",
     "output_type": "stream",
     "text": [
      "(5043, 28)\n"
     ]
    },
    {
     "data": {
      "text/html": [
       "<div>\n",
       "<style scoped>\n",
       "    .dataframe tbody tr th:only-of-type {\n",
       "        vertical-align: middle;\n",
       "    }\n",
       "\n",
       "    .dataframe tbody tr th {\n",
       "        vertical-align: top;\n",
       "    }\n",
       "\n",
       "    .dataframe thead th {\n",
       "        text-align: right;\n",
       "    }\n",
       "</style>\n",
       "<table border=\"1\" class=\"dataframe\">\n",
       "  <thead>\n",
       "    <tr style=\"text-align: right;\">\n",
       "      <th></th>\n",
       "      <th>color</th>\n",
       "      <th>director_name</th>\n",
       "      <th>num_critic_for_reviews</th>\n",
       "      <th>duration</th>\n",
       "      <th>director_facebook_likes</th>\n",
       "      <th>actor_3_facebook_likes</th>\n",
       "      <th>actor_2_name</th>\n",
       "      <th>actor_1_facebook_likes</th>\n",
       "      <th>gross</th>\n",
       "      <th>genres</th>\n",
       "      <th>actor_1_name</th>\n",
       "      <th>movie_title</th>\n",
       "      <th>num_voted_users</th>\n",
       "      <th>cast_total_facebook_likes</th>\n",
       "      <th>actor_3_name</th>\n",
       "      <th>facenumber_in_poster</th>\n",
       "      <th>plot_keywords</th>\n",
       "      <th>movie_imdb_link</th>\n",
       "      <th>num_user_for_reviews</th>\n",
       "      <th>language</th>\n",
       "      <th>country</th>\n",
       "      <th>content_rating</th>\n",
       "      <th>budget</th>\n",
       "      <th>title_year</th>\n",
       "      <th>actor_2_facebook_likes</th>\n",
       "      <th>imdb_score</th>\n",
       "      <th>aspect_ratio</th>\n",
       "      <th>movie_facebook_likes</th>\n",
       "    </tr>\n",
       "  </thead>\n",
       "  <tbody>\n",
       "    <tr>\n",
       "      <th>0</th>\n",
       "      <td>Color</td>\n",
       "      <td>James Cameron</td>\n",
       "      <td>723.0</td>\n",
       "      <td>178.0</td>\n",
       "      <td>0.0</td>\n",
       "      <td>855.0</td>\n",
       "      <td>Joel David Moore</td>\n",
       "      <td>1000.0</td>\n",
       "      <td>760505847.0</td>\n",
       "      <td>Action|Adventure|Fantasy|Sci-Fi</td>\n",
       "      <td>CCH Pounder</td>\n",
       "      <td>Avatar</td>\n",
       "      <td>886204</td>\n",
       "      <td>4834</td>\n",
       "      <td>Wes Studi</td>\n",
       "      <td>0.0</td>\n",
       "      <td>avatar|future|marine|native|paraplegic</td>\n",
       "      <td>http://www.imdb.com/title/tt0499549/?ref_=fn_t...</td>\n",
       "      <td>3054.0</td>\n",
       "      <td>English</td>\n",
       "      <td>USA</td>\n",
       "      <td>PG-13</td>\n",
       "      <td>237000000.0$</td>\n",
       "      <td>2009.0</td>\n",
       "      <td>936.0</td>\n",
       "      <td>7.9</td>\n",
       "      <td>1.78</td>\n",
       "      <td>33000</td>\n",
       "    </tr>\n",
       "    <tr>\n",
       "      <th>1</th>\n",
       "      <td>Color</td>\n",
       "      <td>Gore Verbinski</td>\n",
       "      <td>302.0</td>\n",
       "      <td>169.0</td>\n",
       "      <td>563.0</td>\n",
       "      <td>1000.0</td>\n",
       "      <td>Orlando Bloom</td>\n",
       "      <td>40000.0</td>\n",
       "      <td>309404152.0</td>\n",
       "      <td>Action|Adventure|Fantasy</td>\n",
       "      <td>Johnny Depp</td>\n",
       "      <td>Pirates of the Caribbean: At World's End</td>\n",
       "      <td>471220</td>\n",
       "      <td>48350</td>\n",
       "      <td>Jack Davenport</td>\n",
       "      <td>0.0</td>\n",
       "      <td>goddess|marriage ceremony|marriage proposal|pi...</td>\n",
       "      <td>http://www.imdb.com/title/tt0449088/?ref_=fn_t...</td>\n",
       "      <td>1238.0</td>\n",
       "      <td>English</td>\n",
       "      <td>USA</td>\n",
       "      <td>PG-13</td>\n",
       "      <td>300000000.0$</td>\n",
       "      <td>2007.0</td>\n",
       "      <td>5000.0</td>\n",
       "      <td>7.1</td>\n",
       "      <td>2.35</td>\n",
       "      <td>0</td>\n",
       "    </tr>\n",
       "    <tr>\n",
       "      <th>2</th>\n",
       "      <td>Color</td>\n",
       "      <td>Sam Mendes</td>\n",
       "      <td>602.0</td>\n",
       "      <td>148.0</td>\n",
       "      <td>0.0</td>\n",
       "      <td>161.0</td>\n",
       "      <td>Rory Kinnear</td>\n",
       "      <td>11000.0</td>\n",
       "      <td>200074175.0</td>\n",
       "      <td>Action|Adventure|Thriller</td>\n",
       "      <td>Christoph Waltz</td>\n",
       "      <td>Spectre</td>\n",
       "      <td>275868</td>\n",
       "      <td>11700</td>\n",
       "      <td>Stephanie Sigman</td>\n",
       "      <td>1.0</td>\n",
       "      <td>bomb|espionage|sequel|spy|terrorist</td>\n",
       "      <td>http://www.imdb.com/title/tt2379713/?ref_=fn_t...</td>\n",
       "      <td>994.0</td>\n",
       "      <td>English</td>\n",
       "      <td>UK</td>\n",
       "      <td>PG-13</td>\n",
       "      <td>245000000.0$</td>\n",
       "      <td>2015.0</td>\n",
       "      <td>393.0</td>\n",
       "      <td>6.8</td>\n",
       "      <td>2.35</td>\n",
       "      <td>85000</td>\n",
       "    </tr>\n",
       "  </tbody>\n",
       "</table>\n",
       "</div>"
      ],
      "text/plain": [
       "   color   director_name  num_critic_for_reviews  duration  \\\n",
       "0  Color   James Cameron                   723.0     178.0   \n",
       "1  Color  Gore Verbinski                   302.0     169.0   \n",
       "2  Color      Sam Mendes                   602.0     148.0   \n",
       "\n",
       "   director_facebook_likes  actor_3_facebook_likes      actor_2_name  \\\n",
       "0                      0.0                   855.0  Joel David Moore   \n",
       "1                    563.0                  1000.0     Orlando Bloom   \n",
       "2                      0.0                   161.0      Rory Kinnear   \n",
       "\n",
       "   actor_1_facebook_likes        gross                           genres  \\\n",
       "0                  1000.0  760505847.0  Action|Adventure|Fantasy|Sci-Fi   \n",
       "1                 40000.0  309404152.0         Action|Adventure|Fantasy   \n",
       "2                 11000.0  200074175.0        Action|Adventure|Thriller   \n",
       "\n",
       "      actor_1_name                                movie_title  \\\n",
       "0      CCH Pounder                                    Avatar    \n",
       "1      Johnny Depp  Pirates of the Caribbean: At World's End    \n",
       "2  Christoph Waltz                                   Spectre    \n",
       "\n",
       "   num_voted_users  cast_total_facebook_likes      actor_3_name  \\\n",
       "0           886204                       4834         Wes Studi   \n",
       "1           471220                      48350    Jack Davenport   \n",
       "2           275868                      11700  Stephanie Sigman   \n",
       "\n",
       "   facenumber_in_poster                                      plot_keywords  \\\n",
       "0                   0.0             avatar|future|marine|native|paraplegic   \n",
       "1                   0.0  goddess|marriage ceremony|marriage proposal|pi...   \n",
       "2                   1.0                bomb|espionage|sequel|spy|terrorist   \n",
       "\n",
       "                                     movie_imdb_link  num_user_for_reviews  \\\n",
       "0  http://www.imdb.com/title/tt0499549/?ref_=fn_t...                3054.0   \n",
       "1  http://www.imdb.com/title/tt0449088/?ref_=fn_t...                1238.0   \n",
       "2  http://www.imdb.com/title/tt2379713/?ref_=fn_t...                 994.0   \n",
       "\n",
       "  language country content_rating        budget  title_year  \\\n",
       "0  English     USA          PG-13  237000000.0$      2009.0   \n",
       "1  English     USA          PG-13  300000000.0$      2007.0   \n",
       "2  English      UK          PG-13  245000000.0$      2015.0   \n",
       "\n",
       "   actor_2_facebook_likes  imdb_score  aspect_ratio  movie_facebook_likes  \n",
       "0                   936.0         7.9          1.78                 33000  \n",
       "1                  5000.0         7.1          2.35                     0  \n",
       "2                   393.0         6.8          2.35                 85000  "
      ]
     },
     "execution_count": 2,
     "metadata": {},
     "output_type": "execute_result"
    }
   ],
   "source": [
    "# 1.1. Download the data set movie_metadata.csv, which contains data about films from IMDb (Internet Movie Database).\n",
    "movie_df = pd.read_csv('movie_metadata.csv')\n",
    "print(movie_df.shape)\n",
    "movie_df.head(3)"
   ]
  },
  {
   "cell_type": "code",
   "execution_count": 3,
   "metadata": {},
   "outputs": [
    {
     "data": {
      "text/plain": [
       "15"
      ]
     },
     "execution_count": 3,
     "metadata": {},
     "output_type": "execute_result"
    }
   ],
   "source": [
    "# 1.2. The duration column contains data on the film length. How many missing values are there in this column?\n",
    "movie_df.duration.isna().sum()"
   ]
  },
  {
   "cell_type": "code",
   "execution_count": 4,
   "metadata": {},
   "outputs": [],
   "source": [
    "# 1.3. Replace the missing values in the duration column with the median value for this column.\n",
    "movie_df.duration.fillna(movie_df.duration.median(), inplace=True)"
   ]
  },
  {
   "cell_type": "code",
   "execution_count": 5,
   "metadata": {},
   "outputs": [
    {
     "data": {
      "text/plain": [
       "107.19"
      ]
     },
     "execution_count": 5,
     "metadata": {},
     "output_type": "execute_result"
    }
   ],
   "source": [
    "# 1.4. What is the average film length? Give the answer as a floating-point figure rounded to two decimal places.\n",
    "round(movie_df.duration.mean(), 2)"
   ]
  },
  {
   "cell_type": "code",
   "execution_count": 6,
   "metadata": {},
   "outputs": [],
   "source": [
    "# 1.5. Create a movie_duration_category column, which will contain three categories depending on the film length:\n",
    "# • Category \"1. <90\" if the film is less than 90 minutes long\n",
    "# • Category \"2. 90–120\" if the film is between 90 minutes and two hours long (inclusively)\n",
    "# • Category \"3. >120\" if the film is more than two hours long\n",
    "categories = {\n",
    "    \"1. <90\": movie_df.duration < 90, \n",
    "    \"2. 90–120\": (movie_df.duration >= 90) & (movie_df.duration <= 120),\n",
    "    \"3. >120\": movie_df.duration > 120\n",
    "}\n",
    "movie_df['movie_duration_category'] = np.select(categories.values(), categories.keys())"
   ]
  },
  {
   "cell_type": "code",
   "execution_count": 7,
   "metadata": {},
   "outputs": [
    {
     "data": {
      "text/html": [
       "<div>\n",
       "<style scoped>\n",
       "    .dataframe tbody tr th:only-of-type {\n",
       "        vertical-align: middle;\n",
       "    }\n",
       "\n",
       "    .dataframe tbody tr th {\n",
       "        vertical-align: top;\n",
       "    }\n",
       "\n",
       "    .dataframe thead th {\n",
       "        text-align: right;\n",
       "    }\n",
       "</style>\n",
       "<table border=\"1\" class=\"dataframe\">\n",
       "  <thead>\n",
       "    <tr style=\"text-align: right;\">\n",
       "      <th>movie_duration_category</th>\n",
       "      <th>1. &lt;90</th>\n",
       "      <th>2. 90–120</th>\n",
       "      <th>3. &gt;120</th>\n",
       "    </tr>\n",
       "    <tr>\n",
       "      <th>title_year</th>\n",
       "      <th></th>\n",
       "      <th></th>\n",
       "      <th></th>\n",
       "    </tr>\n",
       "  </thead>\n",
       "  <tbody>\n",
       "    <tr>\n",
       "      <th>2000</th>\n",
       "      <td>25</td>\n",
       "      <td>110</td>\n",
       "      <td>34</td>\n",
       "    </tr>\n",
       "    <tr>\n",
       "      <th>2001</th>\n",
       "      <td>29</td>\n",
       "      <td>118</td>\n",
       "      <td>38</td>\n",
       "    </tr>\n",
       "    <tr>\n",
       "      <th>2002</th>\n",
       "      <td>33</td>\n",
       "      <td>145</td>\n",
       "      <td>27</td>\n",
       "    </tr>\n",
       "    <tr>\n",
       "      <th>2003</th>\n",
       "      <td>31</td>\n",
       "      <td>108</td>\n",
       "      <td>30</td>\n",
       "    </tr>\n",
       "    <tr>\n",
       "      <th>2004</th>\n",
       "      <td>30</td>\n",
       "      <td>140</td>\n",
       "      <td>41</td>\n",
       "    </tr>\n",
       "    <tr>\n",
       "      <th>2005</th>\n",
       "      <td>31</td>\n",
       "      <td>142</td>\n",
       "      <td>48</td>\n",
       "    </tr>\n",
       "    <tr>\n",
       "      <th>2006</th>\n",
       "      <td>40</td>\n",
       "      <td>145</td>\n",
       "      <td>53</td>\n",
       "    </tr>\n",
       "    <tr>\n",
       "      <th>2007</th>\n",
       "      <td>29</td>\n",
       "      <td>130</td>\n",
       "      <td>43</td>\n",
       "    </tr>\n",
       "    <tr>\n",
       "      <th>2008</th>\n",
       "      <td>29</td>\n",
       "      <td>160</td>\n",
       "      <td>36</td>\n",
       "    </tr>\n",
       "    <tr>\n",
       "      <th>2009</th>\n",
       "      <td>42</td>\n",
       "      <td>176</td>\n",
       "      <td>40</td>\n",
       "    </tr>\n",
       "    <tr>\n",
       "      <th>2010</th>\n",
       "      <td>26</td>\n",
       "      <td>170</td>\n",
       "      <td>33</td>\n",
       "    </tr>\n",
       "    <tr>\n",
       "      <th>2011</th>\n",
       "      <td>36</td>\n",
       "      <td>150</td>\n",
       "      <td>39</td>\n",
       "    </tr>\n",
       "    <tr>\n",
       "      <th>2012</th>\n",
       "      <td>41</td>\n",
       "      <td>137</td>\n",
       "      <td>40</td>\n",
       "    </tr>\n",
       "    <tr>\n",
       "      <th>2013</th>\n",
       "      <td>38</td>\n",
       "      <td>144</td>\n",
       "      <td>54</td>\n",
       "    </tr>\n",
       "    <tr>\n",
       "      <th>2014</th>\n",
       "      <td>36</td>\n",
       "      <td>168</td>\n",
       "      <td>44</td>\n",
       "    </tr>\n",
       "    <tr>\n",
       "      <th>2015</th>\n",
       "      <td>34</td>\n",
       "      <td>141</td>\n",
       "      <td>47</td>\n",
       "    </tr>\n",
       "    <tr>\n",
       "      <th>2016</th>\n",
       "      <td>8</td>\n",
       "      <td>76</td>\n",
       "      <td>19</td>\n",
       "    </tr>\n",
       "  </tbody>\n",
       "</table>\n",
       "</div>"
      ],
      "text/plain": [
       "movie_duration_category  1. <90  2. 90–120  3. >120\n",
       "title_year                                         \n",
       "2000                         25        110       34\n",
       "2001                         29        118       38\n",
       "2002                         33        145       27\n",
       "2003                         31        108       30\n",
       "2004                         30        140       41\n",
       "2005                         31        142       48\n",
       "2006                         40        145       53\n",
       "2007                         29        130       43\n",
       "2008                         29        160       36\n",
       "2009                         42        176       40\n",
       "2010                         26        170       33\n",
       "2011                         36        150       39\n",
       "2012                         41        137       40\n",
       "2013                         38        144       54\n",
       "2014                         36        168       44\n",
       "2015                         34        141       47\n",
       "2016                          8         76       19"
      ]
     },
     "execution_count": 7,
     "metadata": {},
     "output_type": "execute_result"
    }
   ],
   "source": [
    "# 1.6. Build a summary table for films released after 2000 (inclusively), to list the numbers of films:\n",
    "# • Table rows: year\n",
    "# • Table columns: movie duration category (\"<90\", \"90–120\", \">120\")\n",
    "# • The year of release should be displayed in the YYYY format.\n",
    "summary_df = movie_df[movie_df.title_year >= 2000] \\\n",
    "                .drop_duplicates() \\\n",
    "                .groupby(['title_year', 'movie_duration_category']) \\\n",
    "                .size() \\\n",
    "                .unstack(level=-1)\n",
    "summary_df.index = summary_df.index.astype(int)\n",
    "summary_df"
   ]
  },
  {
   "cell_type": "code",
   "execution_count": 8,
   "metadata": {},
   "outputs": [
    {
     "data": {
      "text/plain": [
       "160"
      ]
     },
     "execution_count": 8,
     "metadata": {},
     "output_type": "execute_result"
    }
   ],
   "source": [
    "# 1.7. How many films between 90 minutes and two hours long were released in 2008?\n",
    "summary_df.loc[2008][\"2. 90–120\"]"
   ]
  },
  {
   "cell_type": "code",
   "execution_count": 9,
   "metadata": {},
   "outputs": [],
   "source": [
    "# 1.8. The plot_keywords column holds keywords characterizing the film's plot. Using the data\n",
    "# in this column, create a column called movie_plot_category, to contain four categories\n",
    "# depending on the key words in the column:\n",
    "# • Category \"love_and_death\" if the keywords include both \"love\" and \"death\"\n",
    "# • Category \"love\" if the keywords include the word \"love\"\n",
    "# • Category \"death\" if the keywords include the word \"death\"\n",
    "# • Category \"other\" if the keywords do not meet the conditions above\n",
    "f = lambda x: movie_df.plot_keywords.astype(str).str.contains(x)\n",
    "# '(?=.*love)(?=.*death)'\n",
    "\n",
    "categories = {\n",
    "    \"love_and_death\": (f('love')) & (f('death')), \n",
    "    \"love\": f('love'),\n",
    "    \"death\": f('death')\n",
    "}\n",
    "movie_df['movie_plot_category'] = \\\n",
    "    np.select(categories.values(), categories.keys(), default=\"other\")"
   ]
  },
  {
   "cell_type": "code",
   "execution_count": 10,
   "metadata": {},
   "outputs": [
    {
     "data": {
      "text/html": [
       "<div>\n",
       "<style scoped>\n",
       "    .dataframe tbody tr th:only-of-type {\n",
       "        vertical-align: middle;\n",
       "    }\n",
       "\n",
       "    .dataframe tbody tr th {\n",
       "        vertical-align: top;\n",
       "    }\n",
       "\n",
       "    .dataframe thead th {\n",
       "        text-align: right;\n",
       "    }\n",
       "</style>\n",
       "<table border=\"1\" class=\"dataframe\">\n",
       "  <thead>\n",
       "    <tr style=\"text-align: right;\">\n",
       "      <th></th>\n",
       "      <th>average_imdb_score</th>\n",
       "    </tr>\n",
       "    <tr>\n",
       "      <th>movie_plot_category</th>\n",
       "      <th></th>\n",
       "    </tr>\n",
       "  </thead>\n",
       "  <tbody>\n",
       "    <tr>\n",
       "      <th>death</th>\n",
       "      <td>6.535465</td>\n",
       "    </tr>\n",
       "    <tr>\n",
       "      <th>love</th>\n",
       "      <td>6.580769</td>\n",
       "    </tr>\n",
       "    <tr>\n",
       "      <th>love_and_death</th>\n",
       "      <td>6.506250</td>\n",
       "    </tr>\n",
       "    <tr>\n",
       "      <th>other</th>\n",
       "      <td>6.431422</td>\n",
       "    </tr>\n",
       "  </tbody>\n",
       "</table>\n",
       "</div>"
      ],
      "text/plain": [
       "                     average_imdb_score\n",
       "movie_plot_category                    \n",
       "death                          6.535465\n",
       "love                           6.580769\n",
       "love_and_death                 6.506250\n",
       "other                          6.431422"
      ]
     },
     "execution_count": 10,
     "metadata": {},
     "output_type": "execute_result"
    }
   ],
   "source": [
    "# 1.9. The imdb_score column shows a viewer rating for the film. Build a table to reflect the\n",
    "# average rating of films depending on which movie_plot_category category they belong to.\n",
    "\n",
    "ratings_df = movie_df.groupby('movie_plot_category').imdb_score.agg('mean').to_frame('average_imdb_score')\n",
    "ratings_df"
   ]
  },
  {
   "cell_type": "code",
   "execution_count": 11,
   "metadata": {},
   "outputs": [
    {
     "data": {
      "text/plain": [
       "6.58"
      ]
     },
     "execution_count": 11,
     "metadata": {},
     "output_type": "execute_result"
    }
   ],
   "source": [
    "# 1.10. What is the average rating of films in the \"love\" category? Give the answer as a floatingpoint\n",
    "# figure rounded to two decimal places.\n",
    "ratings_df.loc['love'].round(2).average_imdb_score"
   ]
  },
  {
   "cell_type": "code",
   "execution_count": 12,
   "metadata": {},
   "outputs": [
    {
     "data": {
      "text/plain": [
       "15000000"
      ]
     },
     "execution_count": 12,
     "metadata": {},
     "output_type": "execute_result"
    }
   ],
   "source": [
    "# 1.11. The budget column contains the film's budget. What is the median budget for all the films\n",
    "# listed? Give the answer as an integer.\n",
    "int(movie_df.budget.apply(lambda x: float((x.split('$')[0]))).median())"
   ]
  },
  {
   "cell_type": "markdown",
   "metadata": {},
   "source": [
    "# Task 2. Problem-solving\n",
    "\n",
    "To complete this task, use the data set in the attached file. Indicate the answer to each of the\n",
    "following steps and time to complete the entire task.\n"
   ]
  },
  {
   "cell_type": "code",
   "execution_count": 13,
   "metadata": {},
   "outputs": [
    {
     "name": "stdout",
     "output_type": "stream",
     "text": [
      "(79742, 4)\n"
     ]
    },
    {
     "data": {
      "text/html": [
       "<div>\n",
       "<style scoped>\n",
       "    .dataframe tbody tr th:only-of-type {\n",
       "        vertical-align: middle;\n",
       "    }\n",
       "\n",
       "    .dataframe tbody tr th {\n",
       "        vertical-align: top;\n",
       "    }\n",
       "\n",
       "    .dataframe thead th {\n",
       "        text-align: right;\n",
       "    }\n",
       "</style>\n",
       "<table border=\"1\" class=\"dataframe\">\n",
       "  <thead>\n",
       "    <tr style=\"text-align: right;\">\n",
       "      <th></th>\n",
       "      <th>user_id</th>\n",
       "      <th>event_date</th>\n",
       "      <th>event_type</th>\n",
       "      <th>purchase_amount</th>\n",
       "    </tr>\n",
       "  </thead>\n",
       "  <tbody>\n",
       "    <tr>\n",
       "      <th>0</th>\n",
       "      <td>c40e6a</td>\n",
       "      <td>2019-07-29 00:02:15</td>\n",
       "      <td>registration</td>\n",
       "      <td>NaN</td>\n",
       "    </tr>\n",
       "    <tr>\n",
       "      <th>1</th>\n",
       "      <td>a2b682</td>\n",
       "      <td>2019-07-29 00:04:46</td>\n",
       "      <td>registration</td>\n",
       "      <td>NaN</td>\n",
       "    </tr>\n",
       "    <tr>\n",
       "      <th>2</th>\n",
       "      <td>9ac888</td>\n",
       "      <td>2019-07-29 00:13:22</td>\n",
       "      <td>registration</td>\n",
       "      <td>NaN</td>\n",
       "    </tr>\n",
       "  </tbody>\n",
       "</table>\n",
       "</div>"
      ],
      "text/plain": [
       "  user_id           event_date    event_type  purchase_amount\n",
       "0  c40e6a  2019-07-29 00:02:15  registration              NaN\n",
       "1  a2b682  2019-07-29 00:04:46  registration              NaN\n",
       "2  9ac888  2019-07-29 00:13:22  registration              NaN"
      ]
     },
     "execution_count": 13,
     "metadata": {},
     "output_type": "execute_result"
    }
   ],
   "source": [
    "# 1. Download the event_data.csv dataset, which contains data on the use of the mobile\n",
    "# application of users who registered from July 29 to September 1, 2019:\n",
    "event_df = pd.read_csv('event_data.csv')\n",
    "print(event_df.shape)\n",
    "event_df.head(3)"
   ]
  },
  {
   "cell_type": "code",
   "execution_count": 14,
   "metadata": {},
   "outputs": [
    {
     "data": {
      "text/html": [
       "<div>\n",
       "<style scoped>\n",
       "    .dataframe tbody tr th:only-of-type {\n",
       "        vertical-align: middle;\n",
       "    }\n",
       "\n",
       "    .dataframe tbody tr th {\n",
       "        vertical-align: top;\n",
       "    }\n",
       "\n",
       "    .dataframe thead th {\n",
       "        text-align: right;\n",
       "    }\n",
       "</style>\n",
       "<table border=\"1\" class=\"dataframe\">\n",
       "  <thead>\n",
       "    <tr style=\"text-align: right;\">\n",
       "      <th></th>\n",
       "      <th>user_id</th>\n",
       "      <th>event_date</th>\n",
       "      <th>event_type</th>\n",
       "      <th>purchase_amount</th>\n",
       "      <th>cohort_id</th>\n",
       "    </tr>\n",
       "  </thead>\n",
       "  <tbody>\n",
       "    <tr>\n",
       "      <th>0</th>\n",
       "      <td>c40e6a</td>\n",
       "      <td>2019-07-29 00:02:15</td>\n",
       "      <td>registration</td>\n",
       "      <td>NaN</td>\n",
       "      <td>31</td>\n",
       "    </tr>\n",
       "    <tr>\n",
       "      <th>1</th>\n",
       "      <td>a2b682</td>\n",
       "      <td>2019-07-29 00:04:46</td>\n",
       "      <td>registration</td>\n",
       "      <td>NaN</td>\n",
       "      <td>31</td>\n",
       "    </tr>\n",
       "  </tbody>\n",
       "</table>\n",
       "</div>"
      ],
      "text/plain": [
       "  user_id          event_date    event_type  purchase_amount  cohort_id\n",
       "0  c40e6a 2019-07-29 00:02:15  registration              NaN         31\n",
       "1  a2b682 2019-07-29 00:04:46  registration              NaN         31"
      ]
     },
     "execution_count": 14,
     "metadata": {},
     "output_type": "execute_result"
    }
   ],
   "source": [
    "# 2. Highlight user cohorts based on the week of registration in the application. The cohort\n",
    "# identifier should be the week ordinal (for example, the week from July 29 to August 4\n",
    "# should have identifier 31).\n",
    "\n",
    "# event_df.groupby('event_type').user_id.agg('nunique')\n",
    "\n",
    "event_df['event_date'] = pd.to_datetime(event_df.event_date, format='%Y-%m-%d %H:%M:%S')\n",
    "\n",
    "reg_df = event_df[event_df.event_type=='registration'][['user_id', 'event_date']]\n",
    "reg_df['cohort_id'] = event_df.event_date.dt.isocalendar().week\n",
    "\n",
    "# map the right cohort_id to all event_types\n",
    "di = dict(zip(reg_df.user_id, reg_df.cohort_id))\n",
    "event_df['cohort_id'] = event_df.user_id.replace(di)\n",
    "event_df.head(2)"
   ]
  },
  {
   "cell_type": "code",
   "execution_count": 15,
   "metadata": {},
   "outputs": [
    {
     "data": {
      "text/plain": [
       "2045"
      ]
     },
     "execution_count": 15,
     "metadata": {},
     "output_type": "execute_result"
    }
   ],
   "source": [
    "# 3. How many unique users in the cohort with ID 33?\n",
    "event_df[event_df.cohort_id==33].user_id.nunique()"
   ]
  },
  {
   "cell_type": "code",
   "execution_count": 16,
   "metadata": {},
   "outputs": [],
   "source": [
    "# 4. For each event, highlight the indicator lifetime - the weekly lifetime of the cohort. The\n",
    "# lifetime indicator is calculated based on the serial number of the week in which the event\n",
    "# is committed, relative to the week of registration. For example, an event committed on\n",
    "# August 3 by a user from a cohort of registrants at 31 weeks will be committed on the zero\n",
    "# week of lifetime, and an event committed by the same user on August 5 will be committed\n",
    "# on the first week of lifetime).\n",
    "\n",
    "event_df['weekly_lifetime'] = event_df.event_date.dt.isocalendar().week - event_df.cohort_id\n"
   ]
  },
  {
   "cell_type": "code",
   "execution_count": 17,
   "metadata": {},
   "outputs": [
    {
     "data": {
      "text/html": [
       "<div>\n",
       "<style scoped>\n",
       "    .dataframe tbody tr th:only-of-type {\n",
       "        vertical-align: middle;\n",
       "    }\n",
       "\n",
       "    .dataframe tbody tr th {\n",
       "        vertical-align: top;\n",
       "    }\n",
       "\n",
       "    .dataframe thead tr th {\n",
       "        text-align: left;\n",
       "    }\n",
       "\n",
       "    .dataframe thead tr:last-of-type th {\n",
       "        text-align: right;\n",
       "    }\n",
       "</style>\n",
       "<table border=\"1\" class=\"dataframe\">\n",
       "  <thead>\n",
       "    <tr>\n",
       "      <th></th>\n",
       "      <th colspan=\"5\" halign=\"left\">retention_rate</th>\n",
       "    </tr>\n",
       "    <tr>\n",
       "      <th>weekly_lifetime</th>\n",
       "      <th>0</th>\n",
       "      <th>1</th>\n",
       "      <th>2</th>\n",
       "      <th>3</th>\n",
       "      <th>4</th>\n",
       "    </tr>\n",
       "    <tr>\n",
       "      <th>cohort_id</th>\n",
       "      <th></th>\n",
       "      <th></th>\n",
       "      <th></th>\n",
       "      <th></th>\n",
       "      <th></th>\n",
       "    </tr>\n",
       "  </thead>\n",
       "  <tbody>\n",
       "    <tr>\n",
       "      <th>31</th>\n",
       "      <td>27.26</td>\n",
       "      <td>35.22</td>\n",
       "      <td>22.12</td>\n",
       "      <td>11.43</td>\n",
       "      <td>3.97</td>\n",
       "    </tr>\n",
       "    <tr>\n",
       "      <th>32</th>\n",
       "      <td>28.07</td>\n",
       "      <td>36.66</td>\n",
       "      <td>23.24</td>\n",
       "      <td>12.04</td>\n",
       "      <td>NaN</td>\n",
       "    </tr>\n",
       "    <tr>\n",
       "      <th>33</th>\n",
       "      <td>31.74</td>\n",
       "      <td>41.19</td>\n",
       "      <td>27.06</td>\n",
       "      <td>NaN</td>\n",
       "      <td>NaN</td>\n",
       "    </tr>\n",
       "    <tr>\n",
       "      <th>34</th>\n",
       "      <td>43.41</td>\n",
       "      <td>56.59</td>\n",
       "      <td>NaN</td>\n",
       "      <td>NaN</td>\n",
       "      <td>NaN</td>\n",
       "    </tr>\n",
       "    <tr>\n",
       "      <th>35</th>\n",
       "      <td>100.00</td>\n",
       "      <td>NaN</td>\n",
       "      <td>NaN</td>\n",
       "      <td>NaN</td>\n",
       "      <td>NaN</td>\n",
       "    </tr>\n",
       "  </tbody>\n",
       "</table>\n",
       "</div>"
      ],
      "text/plain": [
       "                retention_rate                           \n",
       "weekly_lifetime              0      1      2      3     4\n",
       "cohort_id                                                \n",
       "31                       27.26  35.22  22.12  11.43  3.97\n",
       "32                       28.07  36.66  23.24  12.04   NaN\n",
       "33                       31.74  41.19  27.06    NaN   NaN\n",
       "34                       43.41  56.59    NaN    NaN   NaN\n",
       "35                      100.00    NaN    NaN    NaN   NaN"
      ]
     },
     "execution_count": 17,
     "metadata": {},
     "output_type": "execute_result"
    }
   ],
   "source": [
    "# 5. Build a summary table of changes in the Retention Rate for cohorts depending on lifetime.\n",
    "def calc_retention_rate(x):\n",
    "    return round(100 * x.groupby('weekly_lifetime').size() / x.weekly_lifetime.size, 2)\n",
    "\n",
    "retention_df = event_df.groupby('cohort_id').apply(calc_retention_rate).to_frame('retention_rate').unstack(level=-1)\n",
    "retention_df"
   ]
  },
  {
   "cell_type": "code",
   "execution_count": 18,
   "metadata": {},
   "outputs": [
    {
     "data": {
      "text/plain": [
       "12.04"
      ]
     },
     "execution_count": 18,
     "metadata": {},
     "output_type": "execute_result"
    }
   ],
   "source": [
    "# 6. What is the 3 week retention rate for a cohort with ID 32? Give the answer in percent,\n",
    "# rounded to 2 decimal places, inclusive.\n",
    "retention_df.loc[32][3]"
   ]
  },
  {
   "cell_type": "code",
   "execution_count": 19,
   "metadata": {},
   "outputs": [
    {
     "data": {
      "text/html": [
       "<div>\n",
       "<style scoped>\n",
       "    .dataframe tbody tr th:only-of-type {\n",
       "        vertical-align: middle;\n",
       "    }\n",
       "\n",
       "    .dataframe tbody tr th {\n",
       "        vertical-align: top;\n",
       "    }\n",
       "\n",
       "    .dataframe thead tr th {\n",
       "        text-align: left;\n",
       "    }\n",
       "\n",
       "    .dataframe thead tr:last-of-type th {\n",
       "        text-align: right;\n",
       "    }\n",
       "</style>\n",
       "<table border=\"1\" class=\"dataframe\">\n",
       "  <thead>\n",
       "    <tr>\n",
       "      <th></th>\n",
       "      <th colspan=\"5\" halign=\"left\">arppu</th>\n",
       "    </tr>\n",
       "    <tr>\n",
       "      <th>weekly_lifetime</th>\n",
       "      <th>0</th>\n",
       "      <th>1</th>\n",
       "      <th>2</th>\n",
       "      <th>3</th>\n",
       "      <th>4</th>\n",
       "    </tr>\n",
       "    <tr>\n",
       "      <th>cohort_id</th>\n",
       "      <th></th>\n",
       "      <th></th>\n",
       "      <th></th>\n",
       "      <th></th>\n",
       "      <th></th>\n",
       "    </tr>\n",
       "  </thead>\n",
       "  <tbody>\n",
       "    <tr>\n",
       "      <th>31</th>\n",
       "      <td>4.50</td>\n",
       "      <td>10.40</td>\n",
       "      <td>6.18</td>\n",
       "      <td>3.10</td>\n",
       "      <td>1.02</td>\n",
       "    </tr>\n",
       "    <tr>\n",
       "      <th>32</th>\n",
       "      <td>5.56</td>\n",
       "      <td>10.78</td>\n",
       "      <td>6.45</td>\n",
       "      <td>3.21</td>\n",
       "      <td>NaN</td>\n",
       "    </tr>\n",
       "    <tr>\n",
       "      <th>33</th>\n",
       "      <td>4.79</td>\n",
       "      <td>10.63</td>\n",
       "      <td>6.72</td>\n",
       "      <td>NaN</td>\n",
       "      <td>NaN</td>\n",
       "    </tr>\n",
       "    <tr>\n",
       "      <th>34</th>\n",
       "      <td>4.82</td>\n",
       "      <td>9.95</td>\n",
       "      <td>NaN</td>\n",
       "      <td>NaN</td>\n",
       "      <td>NaN</td>\n",
       "    </tr>\n",
       "    <tr>\n",
       "      <th>35</th>\n",
       "      <td>5.60</td>\n",
       "      <td>NaN</td>\n",
       "      <td>NaN</td>\n",
       "      <td>NaN</td>\n",
       "      <td>NaN</td>\n",
       "    </tr>\n",
       "  </tbody>\n",
       "</table>\n",
       "</div>"
      ],
      "text/plain": [
       "                arppu                         \n",
       "weekly_lifetime     0      1     2     3     4\n",
       "cohort_id                                     \n",
       "31               4.50  10.40  6.18  3.10  1.02\n",
       "32               5.56  10.78  6.45  3.21   NaN\n",
       "33               4.79  10.63  6.72   NaN   NaN\n",
       "34               4.82   9.95   NaN   NaN   NaN\n",
       "35               5.60    NaN   NaN   NaN   NaN"
      ]
     },
     "execution_count": 19,
     "metadata": {},
     "output_type": "execute_result"
    }
   ],
   "source": [
    "# 7. Build a summary table of changes in the indicator ARPPU (Average Revenue Per Paying\n",
    "# User) for cohorts depending on lifetime.\n",
    "\n",
    "def calc_arppu(x):\n",
    "    return round(x.groupby('weekly_lifetime').purchase_amount.sum() / x.user_id.nunique(),2)\n",
    "\n",
    "arppu_df = event_df.groupby('cohort_id').apply(calc_arppu).to_frame('arppu').unstack(level=-1)\n",
    "arppu_df\n"
   ]
  },
  {
   "cell_type": "code",
   "execution_count": 20,
   "metadata": {},
   "outputs": [
    {
     "data": {
      "text/plain": [
       "3.1"
      ]
     },
     "execution_count": 20,
     "metadata": {},
     "output_type": "execute_result"
    }
   ],
   "source": [
    "# 8. What is the 3-week ARPPU of a cohort with ID 31? Give the answer with a floating point\n",
    "# number, rounded to 2 decimal places, inclusive.\n",
    "arppu_df.loc[31][3]"
   ]
  },
  {
   "cell_type": "code",
   "execution_count": 21,
   "metadata": {},
   "outputs": [
    {
     "data": {
      "text/plain": [
       "434774"
      ]
     },
     "execution_count": 21,
     "metadata": {},
     "output_type": "execute_result"
    }
   ],
   "source": [
    "# 9. What is the median time between user registration and first purchase? Give the answer\n",
    "# in seconds (!) As an integer.\n",
    "\n",
    "# NOTE: This ignores NaT values i.e. those who did not make first purchase yet when calculating the median\n",
    "temp_df = reg_df.set_index('user_id').join(\n",
    "    event_df[event_df.event_type == 'purchase'] \\\n",
    "        .groupby('user_id').event_date.min().to_frame('first_purchase_date'))\n",
    "int((temp_df.first_purchase_date - temp_df.event_date).median() / pd.Timedelta(1, 'S'))"
   ]
  },
  {
   "cell_type": "markdown",
   "metadata": {},
   "source": [
    "# Task 3. Answering student questions\n",
    "\n",
    "How would you answer the student's question below? Your task is to get your message across in such a way that a beginner can understand your explanation. You can do this any way you want (pictures, GIFs, metaphors, anything) so long as it makes your explanation clear.\n",
    "Answer the question: \"What is the difference between DataFrame and Series?\"\n",
    "Indicate how much time you spent completing this task.\n",
    "\n",
    "\n",
    "Answer: \n",
    "\n",
    "Before we explain the difference between a DataFrame and a Series, let us first recall the concept of an array in computer science. In simplest terms, an array is a collection of elements. Think of a bunch of kids flanking in one line to buy a sundae at an ice cream stand. In this case, the elements are the kids and the line is the array. Now, one important property of an array is that it is indexed in an ordered manner to indicate the position of its elements. Think of our line of kids. The kid at the front who's currently being served by the stand is indexed \"first\" in line, the kid behind him is indexed \"second\" in line and so on. The index is very important because it would be chaotic if the line is disorganized and the ice cream stand wouldn't know who to serve first! One last point about an array: we can name or label it. In case of our array of kids, we can call them \"ice cream kids\".\n",
    "\n",
    "Let's get down to the difference between a DataFrame and a Series. In simplest terms, a Series is a one-dimensional (as in \"one line\") labeled array like our 'ice cream kids'! Now, imagine after the ice cream kids bought their sundae, they flank in one line at the burger stand beside the ice cream stand: we get another Series which we can call \"burger kids\"! In simplest terms, a DataFrame is a collection of Series i.e. is a two-dimensional (think of rows of kids and columns of stands) labeled array."
   ]
  },
  {
   "cell_type": "markdown",
   "metadata": {},
   "source": [
    "# Task 4.\n",
    "\n",
    "Problem: You are given two random variables X and Y. <br>\n",
    "E(X) = 0.5, Var(X) = 2 <br>\n",
    "E(Y) = 7, Var(Y) = 3.5 <br>\n",
    "cov (X, Y) = -0.8 <br>\n",
    "Find the variance of the random variable Z = 2X - 3Y\n",
    "\n",
    "[Theorem](https://statproofbook.github.io/P/var-lincomb.html): The variance of the linear combination of two random variables is a function of the variances as well as the covariance of those random variables:\n",
    "\n",
    "$ Var(aX+bY) = a^2Var(X)+b^2Var(Y) + 2abCov(X,Y)$\n",
    "\n",
    "Substituting: \n",
    "\n",
    "$Var(Z) = Var(2X - 3Y) = 2^2(2)+(-3)^2(3.5) + 2(2)(-3)(-0.8) = 49.1$"
   ]
  },
  {
   "cell_type": "markdown",
   "metadata": {},
   "source": [
    "# Task 5.\n",
    "\n",
    "Omer trained a linear regression model and tested its performance on a test sample of 500\n",
    "objects. On 400 of those, the model returned a prediction higher than expected by 0.5, and on\n",
    "the remaining 100, the model returned a prediction lower than expected by 0.7.\n",
    "What is the MSE for his model?\n",
    "Limor claims that the linear regression model wasn't trained correctly, and we can do improve\n",
    "it by changing all the answers by a constant value. What will be her MSE?\n",
    "You can assume that Limor found the smallest error under her constraints.\n",
    "Return two values - Omer's and Limor's MSE.\n",
    "\n",
    "\n",
    "My Solution:\n",
    "\n",
    "\n",
    "$ (eq. 1)\\hspace{1cm} MSE = E[(Y−\\hat{Y})^2]$ <br>\n",
    "$ (eq. 2)\\hspace{1cm}MSE = \\frac{1}{n} \\sum_{i=1}^{n}(Y_i-\\hat{Y_i})^2 $<br>\n",
    "$ (eq. 3)\\hspace{1cm}MSE = Var(Y) + Bias(Y, \\hat{Y})^2 $<br>\n",
    "$ (eq. 4)\\hspace{1cm}Var(Y) = E[(Y-E[Y])^2]$<br>\n",
    "$ (eq. 5)\\hspace{1cm}Bias(Y, \\hat{Y})^2 = (\\frac{1}{n}\\sum_{i=1}^{n}(Y_i-\\hat{Y_i}))^2 $<br>\n",
    "\n",
    "$ Y$ − actual values, $\\hat{Y}$ − predicted values\n",
    "\n",
    "### **Omer:**\n",
    "Using $(eq. 2)$\n",
    "\n",
    "$ MSE = \\frac{1}{500} (\\sum_{1}^{400}(-0.5)^2 + \\sum_{401}^{500}(0.7)^2) = \\frac{149}{500} = 0.298$  \n",
    "\n",
    "### **Limor:**\n",
    "\n",
    "Calculate the constant value that minimizes the MSE: <br>\n",
    "Using $(eq. 1)$ and replacing $\\hat{Y}$ with $a$ we get: <br>\n",
    "$ MSE=E[(Y−a)^2] = EY^2−2aEY+a^2.$\n",
    "\n",
    "Differentiating w.r.t $a$ and equating to 0, we get: <br>\n",
    "$ −2EY+2a = 0$ <br>\n",
    "$ a = EY$ \n",
    "\n",
    "Substituting the value of $a$ to $(eq. 1)$, we get: <br>\n",
    "$ MSE = E[(Y-E[Y])^2] $\n",
    "\n",
    "Refering to $(eq. 4)$, we get: <br>\n",
    "$MSE = Var(Y)$. \n",
    "\n",
    "Refering to $(eq. 3)$, this means that the bias is zero. <br>\n",
    "Since Limor will not retrain the model and just change the predictions, the model variance remains the same. <br>\n",
    "This means that the $Var(Y)$ of Omer's model is equal to Limor's $MSE$ i.e.:\n",
    "\n",
    "$ Limor's \\hspace{0.1cm}MSE = Omer's \\hspace{0.1cm}Var(Y) = Omer's \\hspace{0.1cm}MSE - Omer's \\hspace{0.1cm}Bias(Y, \\hat{Y})^2 $ <br>\n",
    "$ Omer's \\hspace{0.1cm}Bias(Y, \\hat{Y})^2 = ((400*-0.5 + 100*0.7)/500)^2 = 0.0676 $ <br>\n",
    "$ Limor's \\hspace{0.1cm}MSE = 0.298 - 0.0676 = 0.2304$\n",
    "\n",
    "\n",
    "### **Final Answer**\n",
    "\n",
    "$MSE_{omer} = 0.298 $ <br>\n",
    "$MSE_{limor} = 0.2304$"
   ]
  }
 ],
 "metadata": {
  "kernelspec": {
   "display_name": "Python 3.7.6 ('base')",
   "language": "python",
   "name": "python3"
  },
  "language_info": {
   "codemirror_mode": {
    "name": "ipython",
    "version": 3
   },
   "file_extension": ".py",
   "mimetype": "text/x-python",
   "name": "python",
   "nbconvert_exporter": "python",
   "pygments_lexer": "ipython3",
   "version": "3.7.6"
  },
  "orig_nbformat": 4,
  "vscode": {
   "interpreter": {
    "hash": "5ddce82407f61efe3e62878a6fa651dacd21f1d4fb2f5eea1f1d81292ee4ad86"
   }
  }
 },
 "nbformat": 4,
 "nbformat_minor": 2
}
